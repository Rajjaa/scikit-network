{
 "cells": [
  {
   "cell_type": "markdown",
   "metadata": {
    "collapsed": true
   },
   "source": [
    "# Louvain"
   ]
  },
  {
   "cell_type": "markdown",
   "metadata": {},
   "source": [
    "This notebook illustrates the hierarchical clustering of graphs by the [Louvain hierarchical algorithm](https://scikit-network.readthedocs.io/en/latest/reference/hierarchy.html)."
   ]
  },
  {
   "cell_type": "code",
   "execution_count": 1,
   "metadata": {
    "pycharm": {
     "is_executing": false
    }
   },
   "outputs": [],
   "source": [
    "from IPython.display import SVG"
   ]
  },
  {
   "cell_type": "code",
   "execution_count": 2,
   "metadata": {
    "pycharm": {
     "is_executing": false
    }
   },
   "outputs": [],
   "source": [
    "import numpy as np"
   ]
  },
  {
   "cell_type": "code",
   "execution_count": 3,
   "metadata": {
    "pycharm": {
     "is_executing": false,
     "name": "#%%\n"
    }
   },
   "outputs": [],
   "source": [
    "from sknetwork.data import karate_club, painters, movie_actor\n",
    "from sknetwork.hierarchy import LouvainHierarchy\n",
    "from sknetwork.hierarchy import cut_straight, dasgupta_score, tree_sampling_divergence\n",
    "from sknetwork.visualization import svg_graph, svg_digraph, svg_bigraph, svg_dendrogram"
   ]
  },
  {
   "cell_type": "markdown",
   "metadata": {},
   "source": [
    "## Graphs"
   ]
  },
  {
   "cell_type": "code",
   "execution_count": 4,
   "metadata": {
    "pycharm": {
     "is_executing": false
    }
   },
   "outputs": [],
   "source": [
    "graph = karate_club(metadata=True)\n",
    "adjacency = graph.adjacency\n",
    "position = graph.position"
   ]
  },
  {
   "cell_type": "code",
   "execution_count": 5,
   "metadata": {
    "pycharm": {
     "is_executing": false
    }
   },
   "outputs": [],
   "source": [
    "# hierarchical clustering\n",
    "louvain_hierarchy = LouvainHierarchy()\n",
    "dendrogram = louvain_hierarchy.fit_transform(adjacency)"
   ]
  },
  {
   "cell_type": "code",
   "execution_count": 6,
   "metadata": {
    "pycharm": {
     "is_executing": false
    }
   },
   "outputs": [
    {
     "data": {
      "image/svg+xml": "<svg xmlns=\"http://www.w3.org/2000/svg\" width=\"420\" height=\"320\"><path stroke-width=\"2\" stroke=\"orange\" d=\"M 386.47058823529414 310 386.47058823529414 310.0\"/><path stroke-width=\"2\" stroke=\"orange\" d=\"M 398.2352941176471 310 398.2352941176471 310.0\"/><path stroke-width=\"2\" stroke=\"orange\" d=\"M 386.47058823529414 310.0 398.2352941176471 310.0\"/><path stroke-width=\"2\" stroke=\"blue\" d=\"M 280.5882352941177 310 280.5882352941177 310.0\"/><path stroke-width=\"2\" stroke=\"blue\" d=\"M 292.3529411764706 310 292.3529411764706 310.0\"/><path stroke-width=\"2\" stroke=\"blue\" d=\"M 280.5882352941177 310.0 292.3529411764706 310.0\"/><path stroke-width=\"2\" stroke=\"orange\" d=\"M 351.1764705882353 310 351.1764705882353 310.0\"/><path stroke-width=\"2\" stroke=\"orange\" d=\"M 362.9411764705883 310 362.9411764705883 310.0\"/><path stroke-width=\"2\" stroke=\"orange\" d=\"M 351.1764705882353 310.0 362.9411764705883 310.0\"/><path stroke-width=\"2\" stroke=\"blue\" d=\"M 210.0 310 210.0 310.0\"/><path stroke-width=\"2\" stroke=\"blue\" d=\"M 221.76470588235296 310 221.76470588235296 310.0\"/><path stroke-width=\"2\" stroke=\"blue\" d=\"M 210.0 310.0 221.76470588235296 310.0\"/><path stroke-width=\"2\" stroke=\"orange\" d=\"M 357.0588235294118 310.0 357.0588235294118 310.0\"/><path stroke-width=\"2\" stroke=\"orange\" d=\"M 374.7058823529412 310 374.7058823529412 310.0\"/><path stroke-width=\"2\" stroke=\"orange\" d=\"M 357.0588235294118 310.0 374.7058823529412 310.0\"/><path stroke-width=\"2\" stroke=\"blue\" d=\"M 286.47058823529414 310.0 286.47058823529414 310.0\"/><path stroke-width=\"2\" stroke=\"blue\" d=\"M 304.11764705882354 310 304.11764705882354 310.0\"/><path stroke-width=\"2\" stroke=\"blue\" d=\"M 286.47058823529414 310.0 304.11764705882354 310.0\"/><path stroke-width=\"2\" stroke=\"blue\" d=\"M 295.29411764705884 310.0 295.29411764705884 310.0\"/><path stroke-width=\"2\" stroke=\"blue\" d=\"M 315.88235294117646 310 315.88235294117646 310.0\"/><path stroke-width=\"2\" stroke=\"blue\" d=\"M 295.29411764705884 310.0 315.88235294117646 310.0\"/><path stroke-width=\"2\" stroke=\"blue\" d=\"M 305.5882352941177 310.0 305.5882352941177 310.0\"/><path stroke-width=\"2\" stroke=\"blue\" d=\"M 327.64705882352945 310 327.64705882352945 310.0\"/><path stroke-width=\"2\" stroke=\"blue\" d=\"M 305.5882352941177 310.0 327.64705882352945 310.0\"/><path stroke-width=\"2\" stroke=\"blue\" d=\"M 316.61764705882354 310.0 316.61764705882354 310.0\"/><path stroke-width=\"2\" stroke=\"blue\" d=\"M 339.4117647058824 310 339.4117647058824 310.0\"/><path stroke-width=\"2\" stroke=\"blue\" d=\"M 316.61764705882354 310.0 339.4117647058824 310.0\"/><path stroke-width=\"2\" stroke=\"blue\" d=\"M 215.88235294117646 310.0 215.88235294117646 310.0\"/><path stroke-width=\"2\" stroke=\"blue\" d=\"M 233.5294117647059 310 233.5294117647059 310.0\"/><path stroke-width=\"2\" stroke=\"blue\" d=\"M 215.88235294117646 310.0 233.5294117647059 310.0\"/><path stroke-width=\"2\" stroke=\"blue\" d=\"M 224.7058823529412 310.0 224.7058823529412 310.0\"/><path stroke-width=\"2\" stroke=\"blue\" d=\"M 245.29411764705884 310 245.29411764705884 310.0\"/><path stroke-width=\"2\" stroke=\"blue\" d=\"M 224.7058823529412 310.0 245.29411764705884 310.0\"/><path stroke-width=\"2\" stroke=\"blue\" d=\"M 235.0 310.0 235.0 310.0\"/><path stroke-width=\"2\" stroke=\"blue\" d=\"M 257.05882352941177 310 257.05882352941177 310.0\"/><path stroke-width=\"2\" stroke=\"blue\" d=\"M 235.0 310.0 257.05882352941177 310.0\"/><path stroke-width=\"2\" stroke=\"blue\" d=\"M 246.02941176470588 310.0 246.02941176470588 310.0\"/><path stroke-width=\"2\" stroke=\"blue\" d=\"M 268.82352941176475 310 268.82352941176475 310.0\"/><path stroke-width=\"2\" stroke=\"blue\" d=\"M 246.02941176470588 310.0 268.82352941176475 310.0\"/><path stroke-width=\"2\" stroke=\"green\" d=\"M 139.41176470588238 310 139.41176470588238 160.0\"/><path stroke-width=\"2\" stroke=\"green\" d=\"M 151.1764705882353 310 151.1764705882353 160.0\"/><path stroke-width=\"2\" stroke=\"green\" d=\"M 139.41176470588238 160.0 151.1764705882353 160.0\"/><path stroke-width=\"2\" stroke=\"red\" d=\"M 10.0 310 10.0 160.0\"/><path stroke-width=\"2\" stroke=\"red\" d=\"M 21.764705882352942 310 21.764705882352942 160.0\"/><path stroke-width=\"2\" stroke=\"red\" d=\"M 10.0 160.0 21.764705882352942 160.0\"/><path stroke-width=\"2\" stroke=\"orange\" d=\"M 365.8823529411765 310.0 365.8823529411765 160.0\"/><path stroke-width=\"2\" stroke=\"orange\" d=\"M 392.3529411764706 310.0 392.3529411764706 160.0\"/><path stroke-width=\"2\" stroke=\"orange\" d=\"M 365.8823529411765 160.0 392.3529411764706 160.0\"/><path stroke-width=\"2\" stroke=\"blue\" d=\"M 257.4264705882353 310.0 257.4264705882353 160.0\"/><path stroke-width=\"2\" stroke=\"blue\" d=\"M 328.0147058823529 310.0 328.0147058823529 160.0\"/><path stroke-width=\"2\" stroke=\"blue\" d=\"M 257.4264705882353 160.0 328.0147058823529 160.0\"/><path stroke-width=\"2\" stroke=\"green\" d=\"M 145.29411764705884 160.0 145.29411764705884 160.0\"/><path stroke-width=\"2\" stroke=\"green\" d=\"M 162.94117647058823 310 162.94117647058823 160.0\"/><path stroke-width=\"2\" stroke=\"green\" d=\"M 145.29411764705884 160.0 162.94117647058823 160.0\"/><path stroke-width=\"2\" stroke=\"green\" d=\"M 154.11764705882354 160.0 154.11764705882354 160.0\"/><path stroke-width=\"2\" stroke=\"green\" d=\"M 174.7058823529412 310 174.7058823529412 160.0\"/><path stroke-width=\"2\" stroke=\"green\" d=\"M 154.11764705882354 160.0 174.7058823529412 160.0\"/><path stroke-width=\"2\" stroke=\"green\" d=\"M 164.41176470588238 160.0 164.41176470588238 160.0\"/><path stroke-width=\"2\" stroke=\"green\" d=\"M 186.47058823529414 310 186.47058823529414 160.0\"/><path stroke-width=\"2\" stroke=\"green\" d=\"M 164.41176470588238 160.0 186.47058823529414 160.0\"/><path stroke-width=\"2\" stroke=\"green\" d=\"M 175.44117647058826 160.0 175.44117647058826 160.0\"/><path stroke-width=\"2\" stroke=\"green\" d=\"M 198.23529411764707 310 198.23529411764707 160.0\"/><path stroke-width=\"2\" stroke=\"green\" d=\"M 175.44117647058826 160.0 198.23529411764707 160.0\"/><path stroke-width=\"2\" stroke=\"red\" d=\"M 15.882352941176471 160.0 15.882352941176471 160.0\"/><path stroke-width=\"2\" stroke=\"red\" d=\"M 33.529411764705884 310 33.529411764705884 160.0\"/><path stroke-width=\"2\" stroke=\"red\" d=\"M 15.882352941176471 160.0 33.529411764705884 160.0\"/><path stroke-width=\"2\" stroke=\"red\" d=\"M 24.705882352941178 160.0 24.705882352941178 160.0\"/><path stroke-width=\"2\" stroke=\"red\" d=\"M 45.294117647058826 310 45.294117647058826 160.0\"/><path stroke-width=\"2\" stroke=\"red\" d=\"M 24.705882352941178 160.0 45.294117647058826 160.0\"/><path stroke-width=\"2\" stroke=\"red\" d=\"M 35.0 160.0 35.0 160.0\"/><path stroke-width=\"2\" stroke=\"red\" d=\"M 57.05882352941177 310 57.05882352941177 160.0\"/><path stroke-width=\"2\" stroke=\"red\" d=\"M 35.0 160.0 57.05882352941177 160.0\"/><path stroke-width=\"2\" stroke=\"red\" d=\"M 46.029411764705884 160.0 46.029411764705884 160.0\"/><path stroke-width=\"2\" stroke=\"red\" d=\"M 68.82352941176471 310 68.82352941176471 160.0\"/><path stroke-width=\"2\" stroke=\"red\" d=\"M 46.029411764705884 160.0 68.82352941176471 160.0\"/><path stroke-width=\"2\" stroke=\"red\" d=\"M 57.4264705882353 160.0 57.4264705882353 160.0\"/><path stroke-width=\"2\" stroke=\"red\" d=\"M 80.58823529411765 310 80.58823529411765 160.0\"/><path stroke-width=\"2\" stroke=\"red\" d=\"M 57.4264705882353 160.0 80.58823529411765 160.0\"/><path stroke-width=\"2\" stroke=\"red\" d=\"M 69.00735294117648 160.0 69.00735294117648 160.0\"/><path stroke-width=\"2\" stroke=\"red\" d=\"M 92.3529411764706 310 92.3529411764706 160.0\"/><path stroke-width=\"2\" stroke=\"red\" d=\"M 69.00735294117648 160.0 92.3529411764706 160.0\"/><path stroke-width=\"2\" stroke=\"red\" d=\"M 80.68014705882354 160.0 80.68014705882354 160.0\"/><path stroke-width=\"2\" stroke=\"red\" d=\"M 104.11764705882354 310 104.11764705882354 160.0\"/><path stroke-width=\"2\" stroke=\"red\" d=\"M 80.68014705882354 160.0 104.11764705882354 160.0\"/><path stroke-width=\"2\" stroke=\"red\" d=\"M 92.39889705882354 160.0 92.39889705882354 160.0\"/><path stroke-width=\"2\" stroke=\"red\" d=\"M 115.88235294117648 310 115.88235294117648 160.0\"/><path stroke-width=\"2\" stroke=\"red\" d=\"M 92.39889705882354 160.0 115.88235294117648 160.0\"/><path stroke-width=\"2\" stroke=\"red\" d=\"M 104.140625 160.0 104.140625 160.0\"/><path stroke-width=\"2\" stroke=\"red\" d=\"M 127.64705882352942 310 127.64705882352942 160.0\"/><path stroke-width=\"2\" stroke=\"red\" d=\"M 104.140625 160.0 127.64705882352942 160.0\"/><path stroke-width=\"2\" stroke=\"black\" d=\"M 115.89384191176471 160.0 115.89384191176471 10.0\"/><path stroke-width=\"2\" stroke=\"black\" d=\"M 186.83823529411768 160.0 186.83823529411768 10.0\"/><path stroke-width=\"2\" stroke=\"black\" d=\"M 115.89384191176471 10.0 186.83823529411768 10.0\"/><path stroke-width=\"2\" stroke=\"black\" d=\"M 151.3660386029412 10.0 151.3660386029412 10.0\"/><path stroke-width=\"2\" stroke=\"black\" d=\"M 292.72058823529414 160.0 292.72058823529414 10.0\"/><path stroke-width=\"2\" stroke=\"black\" d=\"M 151.3660386029412 10.0 292.72058823529414 10.0\"/><path stroke-width=\"2\" stroke=\"black\" d=\"M 222.04331341911768 10.0 222.04331341911768 10.0\"/><path stroke-width=\"2\" stroke=\"black\" d=\"M 379.11764705882354 160.0 379.11764705882354 10.0\"/><path stroke-width=\"2\" stroke=\"black\" d=\"M 222.04331341911768 10.0 379.11764705882354 10.0\"/></svg>",
      "text/plain": [
       "<IPython.core.display.SVG object>"
      ]
     },
     "execution_count": 6,
     "metadata": {},
     "output_type": "execute_result"
    }
   ],
   "source": [
    "image = svg_dendrogram(dendrogram)\n",
    "SVG(image)"
   ]
  },
  {
   "cell_type": "code",
   "execution_count": 7,
   "metadata": {
    "pycharm": {
     "is_executing": false
    },
    "scrolled": true
   },
   "outputs": [
    {
     "name": "stdout",
     "output_type": "stream",
     "text": [
      "[0 0 0 0 3 3 3 0 1 0 3 0 0 0 1 1 3 0 1 0 1 0 1 2 2 2 1 2 2 1 1 2 1 1]\n"
     ]
    }
   ],
   "source": [
    "# cuts\n",
    "labels = cut_straight(dendrogram)\n",
    "print(labels)"
   ]
  },
  {
   "cell_type": "code",
   "execution_count": 8,
   "metadata": {
    "pycharm": {
     "is_executing": false
    }
   },
   "outputs": [
    {
     "name": "stdout",
     "output_type": "stream",
     "text": [
      "[0 0 0 0 3 3 3 0 1 0 3 0 0 0 1 1 3 0 1 0 1 0 1 2 2 2 1 2 2 1 1 2 1 1]\n"
     ]
    }
   ],
   "source": [
    "labels, dendrogram_aggregate = cut_straight(dendrogram, n_clusters=4, return_dendrogram=True)\n",
    "print(labels)"
   ]
  },
  {
   "cell_type": "code",
   "execution_count": 9,
   "metadata": {},
   "outputs": [],
   "source": [
    "_, counts = np.unique(labels, return_counts=True)"
   ]
  },
  {
   "cell_type": "code",
   "execution_count": 10,
   "metadata": {},
   "outputs": [
    {
     "data": {
      "image/svg+xml": "<svg xmlns=\"http://www.w3.org/2000/svg\" width=\"420\" height=\"337.0\"><text x=\"205.0\" y=\"320\" font-size=\"12\">12</text><text x=\"5.0\" y=\"320\" font-size=\"12\">11</text><text x=\"105.0\" y=\"320\" font-size=\"12\">6</text><text x=\"305.0\" y=\"320\" font-size=\"12\">5</text><path stroke-width=\"2\" stroke=\"black\" d=\"M 10.0 310 10.0 10.0\"/><path stroke-width=\"2\" stroke=\"black\" d=\"M 110.0 310 110.0 10.0\"/><path stroke-width=\"2\" stroke=\"black\" d=\"M 10.0 10.0 110.0 10.0\"/><path stroke-width=\"2\" stroke=\"black\" d=\"M 60.0 10.0 60.0 10.0\"/><path stroke-width=\"2\" stroke=\"black\" d=\"M 210.0 310 210.0 10.0\"/><path stroke-width=\"2\" stroke=\"black\" d=\"M 60.0 10.0 210.0 10.0\"/><path stroke-width=\"2\" stroke=\"black\" d=\"M 135.0 10.0 135.0 10.0\"/><path stroke-width=\"2\" stroke=\"black\" d=\"M 310.0 310 310.0 10.0\"/><path stroke-width=\"2\" stroke=\"black\" d=\"M 135.0 10.0 310.0 10.0\"/></svg>",
      "text/plain": [
       "<IPython.core.display.SVG object>"
      ]
     },
     "execution_count": 10,
     "metadata": {},
     "output_type": "execute_result"
    }
   ],
   "source": [
    "image = svg_dendrogram(dendrogram_aggregate, names=counts, rotate_names=False)\n",
    "SVG(image)"
   ]
  },
  {
   "cell_type": "code",
   "execution_count": 11,
   "metadata": {
    "pycharm": {
     "is_executing": false
    }
   },
   "outputs": [
    {
     "data": {
      "image/svg+xml": "<svg xmlns=\"http://www.w3.org/2000/svg\" width=\"440\" height=\"340\">\n<path stroke-width=\"1\" stroke=\"black\" d=\"M 264 200 353 168\"/>\n<path stroke-width=\"1\" stroke=\"black\" d=\"M 20 116 153 125\"/>\n<path stroke-width=\"1\" stroke=\"black\" d=\"M 28 91 131 68\"/>\n<path stroke-width=\"1\" stroke=\"black\" d=\"M 28 91 20 116\"/>\n<path stroke-width=\"1\" stroke=\"black\" d=\"M 28 91 153 125\"/>\n<path stroke-width=\"1\" stroke=\"black\" d=\"M 162 20 171 45\"/>\n<path stroke-width=\"1\" stroke=\"black\" d=\"M 162 20 246 82\"/>\n<path stroke-width=\"1\" stroke=\"black\" d=\"M 122 103 251 143\"/>\n<path stroke-width=\"1\" stroke=\"black\" d=\"M 122 103 131 68\"/>\n<path stroke-width=\"1\" stroke=\"black\" d=\"M 122 103 20 116\"/>\n<path stroke-width=\"1\" stroke=\"black\" d=\"M 122 103 246 82\"/>\n<path stroke-width=\"1\" stroke=\"black\" d=\"M 197 120 251 143\"/>\n<path stroke-width=\"1\" stroke=\"black\" d=\"M 197 120 153 125\"/>\n<path stroke-width=\"1\" stroke=\"black\" d=\"M 197 120 246 82\"/>\n<path stroke-width=\"1\" stroke=\"black\" d=\"M 171 45 131 68\"/>\n<path stroke-width=\"1\" stroke=\"black\" d=\"M 171 45 162 20\"/>\n<path stroke-width=\"1\" stroke=\"black\" d=\"M 20 116 122 103\"/>\n<path stroke-width=\"1\" stroke=\"black\" d=\"M 20 116 28 91\"/>\n<path stroke-width=\"1\" stroke=\"black\" d=\"M 131 68 246 82\"/>\n<path stroke-width=\"1\" stroke=\"black\" d=\"M 131 68 260 73\"/>\n<path stroke-width=\"1\" stroke=\"black\" d=\"M 388 216 264 200\"/>\n<path stroke-width=\"1\" stroke=\"black\" d=\"M 388 216 353 168\"/>\n<path stroke-width=\"1\" stroke=\"black\" d=\"M 313 34 260 73\"/>\n<path stroke-width=\"1\" stroke=\"black\" d=\"M 313 34 246 82\"/>\n<path stroke-width=\"1\" stroke=\"black\" d=\"M 331 143 264 200\"/>\n<path stroke-width=\"1\" stroke=\"black\" d=\"M 331 143 353 168\"/>\n<path stroke-width=\"1\" stroke=\"black\" d=\"M 331 143 246 82\"/>\n<path stroke-width=\"1\" stroke=\"black\" d=\"M 171 45 260 73\"/>\n<path stroke-width=\"1\" stroke=\"black\" d=\"M 366 61 260 73\"/>\n<path stroke-width=\"1\" stroke=\"black\" d=\"M 420 202 264 200\"/>\n<path stroke-width=\"1\" stroke=\"black\" d=\"M 420 202 353 168\"/>\n<path stroke-width=\"1\" stroke=\"black\" d=\"M 228 32 260 73\"/>\n<path stroke-width=\"1\" stroke=\"black\" d=\"M 228 32 246 82\"/>\n<path stroke-width=\"1\" stroke=\"black\" d=\"M 131 68 28 91\"/>\n<path stroke-width=\"1\" stroke=\"black\" d=\"M 131 68 122 103\"/>\n<path stroke-width=\"1\" stroke=\"black\" d=\"M 131 68 171 45\"/>\n<path stroke-width=\"1\" stroke=\"black\" d=\"M 366 61 246 82\"/>\n<path stroke-width=\"1\" stroke=\"black\" d=\"M 220 320 264 277\"/>\n<path stroke-width=\"1\" stroke=\"black\" d=\"M 171 45 246 82\"/>\n<path stroke-width=\"1\" stroke=\"black\" d=\"M 344 107 282 125\"/>\n<path stroke-width=\"1\" stroke=\"black\" d=\"M 246 82 282 125\"/>\n<path stroke-width=\"1\" stroke=\"black\" d=\"M 246 82 197 100\"/>\n<path stroke-width=\"1\" stroke=\"black\" d=\"M 246 82 282 153\"/>\n<path stroke-width=\"1\" stroke=\"black\" d=\"M 246 82 348 43\"/>\n<path stroke-width=\"1\" stroke=\"black\" d=\"M 246 82 273 27\"/>\n<path stroke-width=\"1\" stroke=\"black\" d=\"M 246 82 313 34\"/>\n<path stroke-width=\"1\" stroke=\"black\" d=\"M 246 82 331 143\"/>\n<path stroke-width=\"1\" stroke=\"black\" d=\"M 246 82 366 61\"/>\n<path stroke-width=\"1\" stroke=\"black\" d=\"M 246 82 228 32\"/>\n<path stroke-width=\"1\" stroke=\"black\" d=\"M 246 82 131 68\"/>\n<path stroke-width=\"1\" stroke=\"black\" d=\"M 246 82 162 20\"/>\n<path stroke-width=\"1\" stroke=\"black\" d=\"M 246 82 122 103\"/>\n<path stroke-width=\"1\" stroke=\"black\" d=\"M 246 82 197 120\"/>\n<path stroke-width=\"1\" stroke=\"black\" d=\"M 246 82 171 45\"/>\n<path stroke-width=\"1\" stroke=\"black\" d=\"M 246 82 344 107\"/>\n<path stroke-width=\"1\" stroke=\"black\" d=\"M 260 73 246 82\"/>\n<path stroke-width=\"1\" stroke=\"black\" d=\"M 260 73 153 125\"/>\n<path stroke-width=\"1\" stroke=\"black\" d=\"M 260 73 344 107\"/>\n<path stroke-width=\"1\" stroke=\"black\" d=\"M 260 73 171 45\"/>\n<path stroke-width=\"1\" stroke=\"black\" d=\"M 344 107 260 73\"/>\n<path stroke-width=\"1\" stroke=\"black\" d=\"M 344 107 246 82\"/>\n<path stroke-width=\"1\" stroke=\"black\" d=\"M 153 125 264 200\"/>\n<path stroke-width=\"1\" stroke=\"black\" d=\"M 153 125 20 116\"/>\n<path stroke-width=\"1\" stroke=\"black\" d=\"M 153 125 28 91\"/>\n<path stroke-width=\"1\" stroke=\"black\" d=\"M 153 125 197 120\"/>\n<path stroke-width=\"1\" stroke=\"black\" d=\"M 153 125 260 73\"/>\n<path stroke-width=\"1\" stroke=\"black\" d=\"M 344 107 353 168\"/>\n<path stroke-width=\"1\" stroke=\"black\" d=\"M 153 125 246 82\"/>\n<path stroke-width=\"1\" stroke=\"black\" d=\"M 260 73 282 125\"/>\n<path stroke-width=\"1\" stroke=\"black\" d=\"M 260 73 348 43\"/>\n<path stroke-width=\"1\" stroke=\"black\" d=\"M 260 73 273 27\"/>\n<path stroke-width=\"1\" stroke=\"black\" d=\"M 260 73 313 34\"/>\n<path stroke-width=\"1\" stroke=\"black\" d=\"M 260 73 366 61\"/>\n<path stroke-width=\"1\" stroke=\"black\" d=\"M 260 73 228 32\"/>\n<path stroke-width=\"1\" stroke=\"black\" d=\"M 260 73 131 68\"/>\n<path stroke-width=\"1\" stroke=\"black\" d=\"M 260 73 251 143\"/>\n<path stroke-width=\"1\" stroke=\"black\" d=\"M 220 320 211 275\"/>\n<path stroke-width=\"1\" stroke=\"black\" d=\"M 273 27 246 82\"/>\n<path stroke-width=\"1\" stroke=\"black\" d=\"M 273 27 260 73\"/>\n<path stroke-width=\"1\" stroke=\"black\" d=\"M 353 168 388 216\"/>\n<path stroke-width=\"1\" stroke=\"black\" d=\"M 353 168 331 143\"/>\n<path stroke-width=\"1\" stroke=\"black\" d=\"M 353 168 420 202\"/>\n<path stroke-width=\"1\" stroke=\"black\" d=\"M 353 168 344 107\"/>\n<path stroke-width=\"1\" stroke=\"black\" d=\"M 251 143 264 200\"/>\n<path stroke-width=\"1\" stroke=\"black\" d=\"M 251 143 353 168\"/>\n<path stroke-width=\"1\" stroke=\"black\" d=\"M 251 143 304 191\"/>\n<path stroke-width=\"1\" stroke=\"black\" d=\"M 251 143 340 186\"/>\n<path stroke-width=\"1\" stroke=\"black\" d=\"M 251 143 282 125\"/>\n<path stroke-width=\"1\" stroke=\"black\" d=\"M 251 143 197 100\"/>\n<path stroke-width=\"1\" stroke=\"black\" d=\"M 251 143 282 153\"/>\n<path stroke-width=\"1\" stroke=\"black\" d=\"M 251 143 122 103\"/>\n<path stroke-width=\"1\" stroke=\"black\" d=\"M 251 143 197 120\"/>\n<path stroke-width=\"1\" stroke=\"black\" d=\"M 251 143 260 73\"/>\n<path stroke-width=\"1\" stroke=\"black\" d=\"M 304 191 264 200\"/>\n<path stroke-width=\"1\" stroke=\"black\" d=\"M 353 168 282 153\"/>\n<path stroke-width=\"1\" stroke=\"black\" d=\"M 353 168 340 186\"/>\n<path stroke-width=\"1\" stroke=\"black\" d=\"M 353 168 304 191\"/>\n<path stroke-width=\"1\" stroke=\"black\" d=\"M 353 168 251 143\"/>\n<path stroke-width=\"1\" stroke=\"black\" d=\"M 264 200 251 143\"/>\n<path stroke-width=\"1\" stroke=\"black\" d=\"M 264 200 304 191\"/>\n<path stroke-width=\"1\" stroke=\"black\" d=\"M 264 200 255 255\"/>\n<path stroke-width=\"1\" stroke=\"black\" d=\"M 264 200 211 275\"/>\n<path stroke-width=\"1\" stroke=\"black\" d=\"M 264 200 264 277\"/>\n<path stroke-width=\"1\" stroke=\"black\" d=\"M 264 200 340 186\"/>\n<path stroke-width=\"1\" stroke=\"black\" d=\"M 264 200 282 125\"/>\n<path stroke-width=\"1\" stroke=\"black\" d=\"M 304 191 353 168\"/>\n<path stroke-width=\"1\" stroke=\"black\" d=\"M 264 200 188 252\"/>\n<path stroke-width=\"1\" stroke=\"black\" d=\"M 264 200 335 236\"/>\n<path stroke-width=\"1\" stroke=\"black\" d=\"M 264 200 282 153\"/>\n<path stroke-width=\"1\" stroke=\"black\" d=\"M 264 200 388 216\"/>\n<path stroke-width=\"1\" stroke=\"black\" d=\"M 264 200 331 143\"/>\n<path stroke-width=\"1\" stroke=\"black\" d=\"M 264 200 420 202\"/>\n<path stroke-width=\"1\" stroke=\"black\" d=\"M 264 200 153 125\"/>\n<path stroke-width=\"1\" stroke=\"black\" d=\"M 353 168 264 200\"/>\n<path stroke-width=\"1\" stroke=\"black\" d=\"M 264 200 122 212\"/>\n<path stroke-width=\"1\" stroke=\"black\" d=\"M 304 191 251 143\"/>\n<path stroke-width=\"1\" stroke=\"black\" d=\"M 304 191 340 186\"/>\n<path stroke-width=\"1\" stroke=\"black\" d=\"M 304 191 335 236\"/>\n<path stroke-width=\"1\" stroke=\"black\" d=\"M 282 125 246 82\"/>\n<path stroke-width=\"1\" stroke=\"black\" d=\"M 197 100 251 143\"/>\n<path stroke-width=\"1\" stroke=\"black\" d=\"M 197 100 246 82\"/>\n<path stroke-width=\"1\" stroke=\"black\" d=\"M 188 252 264 200\"/>\n<path stroke-width=\"1\" stroke=\"black\" d=\"M 188 252 255 255\"/>\n<path stroke-width=\"1\" stroke=\"black\" d=\"M 188 252 211 275\"/>\n<path stroke-width=\"1\" stroke=\"black\" d=\"M 122 212 264 200\"/>\n<path stroke-width=\"1\" stroke=\"black\" d=\"M 282 125 260 73\"/>\n<path stroke-width=\"1\" stroke=\"black\" d=\"M 335 236 264 200\"/>\n<path stroke-width=\"1\" stroke=\"black\" d=\"M 282 153 264 200\"/>\n<path stroke-width=\"1\" stroke=\"black\" d=\"M 282 153 353 168\"/>\n<path stroke-width=\"1\" stroke=\"black\" d=\"M 282 153 251 143\"/>\n<path stroke-width=\"1\" stroke=\"black\" d=\"M 282 153 304 191\"/>\n<path stroke-width=\"1\" stroke=\"black\" d=\"M 282 153 246 82\"/>\n<path stroke-width=\"1\" stroke=\"black\" d=\"M 348 43 260 73\"/>\n<path stroke-width=\"1\" stroke=\"black\" d=\"M 348 43 246 82\"/>\n<path stroke-width=\"1\" stroke=\"black\" d=\"M 335 236 304 191\"/>\n<path stroke-width=\"1\" stroke=\"black\" d=\"M 246 82 153 125\"/>\n<path stroke-width=\"1\" stroke=\"black\" d=\"M 282 125 344 107\"/>\n<path stroke-width=\"1\" stroke=\"black\" d=\"M 282 125 264 200\"/>\n<path stroke-width=\"1\" stroke=\"black\" d=\"M 304 191 282 153\"/>\n<path stroke-width=\"1\" stroke=\"black\" d=\"M 255 255 264 200\"/>\n<path stroke-width=\"1\" stroke=\"black\" d=\"M 255 255 264 277\"/>\n<path stroke-width=\"1\" stroke=\"black\" d=\"M 255 255 188 252\"/>\n<path stroke-width=\"1\" stroke=\"black\" d=\"M 211 275 264 200\"/>\n<path stroke-width=\"1\" stroke=\"black\" d=\"M 211 275 264 277\"/>\n<path stroke-width=\"1\" stroke=\"black\" d=\"M 211 275 188 252\"/>\n<path stroke-width=\"1\" stroke=\"black\" d=\"M 282 125 251 143\"/>\n<path stroke-width=\"1\" stroke=\"black\" d=\"M 211 275 220 320\"/>\n<path stroke-width=\"1\" stroke=\"black\" d=\"M 264 277 255 255\"/>\n<path stroke-width=\"1\" stroke=\"black\" d=\"M 264 277 211 275\"/>\n<path stroke-width=\"1\" stroke=\"black\" d=\"M 264 277 220 320\"/>\n<path stroke-width=\"1\" stroke=\"black\" d=\"M 340 186 264 200\"/>\n<path stroke-width=\"1\" stroke=\"black\" d=\"M 340 186 353 168\"/>\n<path stroke-width=\"1\" stroke=\"black\" d=\"M 340 186 251 143\"/>\n<path stroke-width=\"1\" stroke=\"black\" d=\"M 340 186 304 191\"/>\n<path stroke-width=\"1\" stroke=\"black\" d=\"M 264 277 264 200\"/>\n<path stroke-width=\"1\" stroke=\"black\" d=\"M 246 82 260 73\"/>\n<circle cx=\"264\" cy=\"200\" r=\"7.0\" style=\"fill:blue;stroke:black;stroke-width:1.0\"/>\n<circle cx=\"353\" cy=\"168\" r=\"7.0\" style=\"fill:blue;stroke:black;stroke-width:1.0\"/>\n<circle cx=\"251\" cy=\"143\" r=\"7.0\" style=\"fill:blue;stroke:black;stroke-width:1.0\"/>\n<circle cx=\"304\" cy=\"191\" r=\"7.0\" style=\"fill:blue;stroke:black;stroke-width:1.0\"/>\n<circle cx=\"255\" cy=\"255\" r=\"7.0\" style=\"fill:orange;stroke:black;stroke-width:1.0\"/>\n<circle cx=\"211\" cy=\"275\" r=\"7.0\" style=\"fill:orange;stroke:black;stroke-width:1.0\"/>\n<circle cx=\"264\" cy=\"277\" r=\"7.0\" style=\"fill:orange;stroke:black;stroke-width:1.0\"/>\n<circle cx=\"340\" cy=\"186\" r=\"7.0\" style=\"fill:blue;stroke:black;stroke-width:1.0\"/>\n<circle cx=\"282\" cy=\"125\" r=\"7.0\" style=\"fill:red;stroke:black;stroke-width:1.0\"/>\n<circle cx=\"197\" cy=\"100\" r=\"7.0\" style=\"fill:blue;stroke:black;stroke-width:1.0\"/>\n<circle cx=\"188\" cy=\"252\" r=\"7.0\" style=\"fill:orange;stroke:black;stroke-width:1.0\"/>\n<circle cx=\"122\" cy=\"212\" r=\"7.0\" style=\"fill:blue;stroke:black;stroke-width:1.0\"/>\n<circle cx=\"335\" cy=\"236\" r=\"7.0\" style=\"fill:blue;stroke:black;stroke-width:1.0\"/>\n<circle cx=\"282\" cy=\"153\" r=\"7.0\" style=\"fill:blue;stroke:black;stroke-width:1.0\"/>\n<circle cx=\"348\" cy=\"43\" r=\"7.0\" style=\"fill:red;stroke:black;stroke-width:1.0\"/>\n<circle cx=\"273\" cy=\"27\" r=\"7.0\" style=\"fill:red;stroke:black;stroke-width:1.0\"/>\n<circle cx=\"220\" cy=\"320\" r=\"7.0\" style=\"fill:orange;stroke:black;stroke-width:1.0\"/>\n<circle cx=\"388\" cy=\"216\" r=\"7.0\" style=\"fill:blue;stroke:black;stroke-width:1.0\"/>\n<circle cx=\"313\" cy=\"34\" r=\"7.0\" style=\"fill:red;stroke:black;stroke-width:1.0\"/>\n<circle cx=\"331\" cy=\"143\" r=\"7.0\" style=\"fill:blue;stroke:black;stroke-width:1.0\"/>\n<circle cx=\"366\" cy=\"61\" r=\"7.0\" style=\"fill:red;stroke:black;stroke-width:1.0\"/>\n<circle cx=\"420\" cy=\"202\" r=\"7.0\" style=\"fill:blue;stroke:black;stroke-width:1.0\"/>\n<circle cx=\"228\" cy=\"32\" r=\"7.0\" style=\"fill:red;stroke:black;stroke-width:1.0\"/>\n<circle cx=\"131\" cy=\"68\" r=\"7.0\" style=\"fill:green;stroke:black;stroke-width:1.0\"/>\n<circle cx=\"20\" cy=\"116\" r=\"7.0\" style=\"fill:green;stroke:black;stroke-width:1.0\"/>\n<circle cx=\"28\" cy=\"91\" r=\"7.0\" style=\"fill:green;stroke:black;stroke-width:1.0\"/>\n<circle cx=\"162\" cy=\"20\" r=\"7.0\" style=\"fill:red;stroke:black;stroke-width:1.0\"/>\n<circle cx=\"122\" cy=\"103\" r=\"7.0\" style=\"fill:green;stroke:black;stroke-width:1.0\"/>\n<circle cx=\"197\" cy=\"120\" r=\"7.0\" style=\"fill:green;stroke:black;stroke-width:1.0\"/>\n<circle cx=\"171\" cy=\"45\" r=\"7.0\" style=\"fill:red;stroke:black;stroke-width:1.0\"/>\n<circle cx=\"344\" cy=\"107\" r=\"7.0\" style=\"fill:red;stroke:black;stroke-width:1.0\"/>\n<circle cx=\"153\" cy=\"125\" r=\"7.0\" style=\"fill:green;stroke:black;stroke-width:1.0\"/>\n<circle cx=\"260\" cy=\"73\" r=\"7.0\" style=\"fill:red;stroke:black;stroke-width:1.0\"/>\n<circle cx=\"246\" cy=\"82\" r=\"7.0\" style=\"fill:red;stroke:black;stroke-width:1.0\"/>\n</svg>",
      "text/plain": [
       "<IPython.core.display.SVG object>"
      ]
     },
     "execution_count": 11,
     "metadata": {},
     "output_type": "execute_result"
    }
   ],
   "source": [
    "image = svg_graph(adjacency, position, labels=labels)\n",
    "SVG(image)"
   ]
  },
  {
   "cell_type": "code",
   "execution_count": 12,
   "metadata": {
    "pycharm": {
     "is_executing": false
    }
   },
   "outputs": [
    {
     "data": {
      "text/plain": [
       "0.6496983408748115"
      ]
     },
     "execution_count": 12,
     "metadata": {},
     "output_type": "execute_result"
    }
   ],
   "source": [
    "# metrics\n",
    "dasgupta_score(adjacency, dendrogram)"
   ]
  },
  {
   "cell_type": "markdown",
   "metadata": {},
   "source": [
    "## Directed graphs"
   ]
  },
  {
   "cell_type": "code",
   "execution_count": 13,
   "metadata": {
    "pycharm": {
     "is_executing": false
    }
   },
   "outputs": [],
   "source": [
    "graph = painters(metadata=True)\n",
    "adjacency = graph.adjacency\n",
    "position = graph.position\n",
    "names = graph.names"
   ]
  },
  {
   "cell_type": "code",
   "execution_count": 15,
   "metadata": {
    "pycharm": {
     "is_executing": false
    }
   },
   "outputs": [],
   "source": [
    "# hierarchical clustering\n",
    "louvain_hierarchy = LouvainHierarchy()\n",
    "dendrogram = louvain_hierarchy.fit_transform(adjacency)"
   ]
  },
  {
   "cell_type": "code",
   "execution_count": 16,
   "metadata": {
    "pycharm": {
     "is_executing": false
    }
   },
   "outputs": [
    {
     "data": {
      "image/svg+xml": "<svg xmlns=\"http://www.w3.org/2000/svg\" width=\"551.0\" height=\"320\"><text x=\"415\" y=\"102.85714285714285\" font-size=\"12\">Pablo Picasso</text><text x=\"415\" y=\"209.99999999999997\" font-size=\"12\">Claude Monet</text><text x=\"415\" y=\"295.7142857142857\" font-size=\"12\">Michel Angelo</text><text x=\"415\" y=\"188.57142857142856\" font-size=\"12\">Edouard Manet</text><text x=\"415\" y=\"274.2857142857143\" font-size=\"12\">Peter Paul Rubens</text><text x=\"415\" y=\"252.85714285714283\" font-size=\"12\">Rembrandt</text><text x=\"415\" y=\"38.57142857142857\" font-size=\"12\">Gustav Klimt</text><text x=\"415\" y=\"167.14285714285714\" font-size=\"12\">Edgar Degas</text><text x=\"415\" y=\"81.42857142857142\" font-size=\"12\">Vincent van Gogh</text><text x=\"415\" y=\"231.42857142857142\" font-size=\"12\">Leonardo da Vinci</text><text x=\"415\" y=\"60.0\" font-size=\"12\">Henri Matisse</text><text x=\"415\" y=\"145.7142857142857\" font-size=\"12\">Paul Cezanne</text><text x=\"415\" y=\"124.28571428571428\" font-size=\"12\">Pierre-Auguste Renoir</text><text x=\"415\" y=\"17.142857142857142\" font-size=\"12\">Egon Schiele</text><path stroke-width=\"2\" stroke=\"red\" d=\"M 410 52.857142857142854 410.0 52.857142857142854\"/><path stroke-width=\"2\" stroke=\"red\" d=\"M 410 74.28571428571428 410.0 74.28571428571428\"/><path stroke-width=\"2\" stroke=\"red\" d=\"M 410.0 52.857142857142854 410.0 74.28571428571428\"/><path stroke-width=\"2\" stroke=\"red\" d=\"M 410 10.0 410.0 10.0\"/><path stroke-width=\"2\" stroke=\"red\" d=\"M 410 31.428571428571427 410.0 31.428571428571427\"/><path stroke-width=\"2\" stroke=\"red\" d=\"M 410.0 10.0 410.0 31.428571428571427\"/><path stroke-width=\"2\" stroke=\"red\" d=\"M 410.0 63.57142857142857 410.0 63.57142857142857\"/><path stroke-width=\"2\" stroke=\"red\" d=\"M 410 95.71428571428571 410.0 95.71428571428571\"/><path stroke-width=\"2\" stroke=\"red\" d=\"M 410.0 63.57142857142857 410.0 95.71428571428571\"/><path stroke-width=\"2\" stroke=\"green\" d=\"M 410 224.28571428571428 210.0 224.28571428571428\"/><path stroke-width=\"2\" stroke=\"green\" d=\"M 410 245.7142857142857 210.0 245.7142857142857\"/><path stroke-width=\"2\" stroke=\"green\" d=\"M 210.0 224.28571428571428 210.0 245.7142857142857\"/><path stroke-width=\"2\" stroke=\"blue\" d=\"M 410 117.14285714285714 210.0 117.14285714285714\"/><path stroke-width=\"2\" stroke=\"blue\" d=\"M 410 138.57142857142856 210.0 138.57142857142856\"/><path stroke-width=\"2\" stroke=\"blue\" d=\"M 210.0 117.14285714285714 210.0 138.57142857142856\"/><path stroke-width=\"2\" stroke=\"green\" d=\"M 210.0 235.0 210.0 235.0\"/><path stroke-width=\"2\" stroke=\"green\" d=\"M 410 267.1428571428571 210.0 267.1428571428571\"/><path stroke-width=\"2\" stroke=\"green\" d=\"M 210.0 235.0 210.0 267.1428571428571\"/><path stroke-width=\"2\" stroke=\"green\" d=\"M 210.0 251.07142857142856 210.0 251.07142857142856\"/><path stroke-width=\"2\" stroke=\"green\" d=\"M 410 288.57142857142856 210.0 288.57142857142856\"/><path stroke-width=\"2\" stroke=\"green\" d=\"M 210.0 251.07142857142856 210.0 288.57142857142856\"/><path stroke-width=\"2\" stroke=\"blue\" d=\"M 210.0 127.85714285714285 210.0 127.85714285714285\"/><path stroke-width=\"2\" stroke=\"blue\" d=\"M 410 160.0 210.0 160.0\"/><path stroke-width=\"2\" stroke=\"blue\" d=\"M 210.0 127.85714285714285 210.0 160.0\"/><path stroke-width=\"2\" stroke=\"blue\" d=\"M 210.0 143.92857142857142 210.0 143.92857142857142\"/><path stroke-width=\"2\" stroke=\"blue\" d=\"M 410 181.42857142857142 210.0 181.42857142857142\"/><path stroke-width=\"2\" stroke=\"blue\" d=\"M 210.0 143.92857142857142 210.0 181.42857142857142\"/><path stroke-width=\"2\" stroke=\"blue\" d=\"M 210.0 162.67857142857142 210.0 162.67857142857142\"/><path stroke-width=\"2\" stroke=\"blue\" d=\"M 410 202.85714285714283 210.0 202.85714285714283\"/><path stroke-width=\"2\" stroke=\"blue\" d=\"M 210.0 162.67857142857142 210.0 202.85714285714283\"/><path stroke-width=\"2\" stroke=\"red\" d=\"M 410.0 20.714285714285715 210.0 20.714285714285715\"/><path stroke-width=\"2\" stroke=\"red\" d=\"M 410.0 79.64285714285714 210.0 79.64285714285714\"/><path stroke-width=\"2\" stroke=\"red\" d=\"M 210.0 20.714285714285715 210.0 79.64285714285714\"/><path stroke-width=\"2\" stroke=\"black\" d=\"M 210.0 50.17857142857143 10.0 50.17857142857143\"/><path stroke-width=\"2\" stroke=\"black\" d=\"M 210.0 182.7678571428571 10.0 182.7678571428571\"/><path stroke-width=\"2\" stroke=\"black\" d=\"M 10.0 50.17857142857143 10.0 182.7678571428571\"/><path stroke-width=\"2\" stroke=\"black\" d=\"M 10.0 116.47321428571428 10.0 116.47321428571428\"/><path stroke-width=\"2\" stroke=\"black\" d=\"M 210.0 269.82142857142856 10.0 269.82142857142856\"/><path stroke-width=\"2\" stroke=\"black\" d=\"M 10.0 116.47321428571428 10.0 269.82142857142856\"/></svg>",
      "text/plain": [
       "<IPython.core.display.SVG object>"
      ]
     },
     "execution_count": 16,
     "metadata": {},
     "output_type": "execute_result"
    }
   ],
   "source": [
    "image = svg_dendrogram(dendrogram, names, rotate=True)\n",
    "SVG(image)"
   ]
  },
  {
   "cell_type": "code",
   "execution_count": 17,
   "metadata": {
    "pycharm": {
     "is_executing": false
    }
   },
   "outputs": [
    {
     "name": "stdout",
     "output_type": "stream",
     "text": [
      "[1 0 2 0 2 2 1 0 1 2 1 0 0 1]\n"
     ]
    }
   ],
   "source": [
    "# cut with 3 clusters\n",
    "labels = cut_straight(dendrogram, n_clusters = 3)\n",
    "print(labels)"
   ]
  },
  {
   "cell_type": "code",
   "execution_count": 18,
   "metadata": {
    "pycharm": {
     "is_executing": false
    }
   },
   "outputs": [
    {
     "data": {
      "image/svg+xml": "<svg xmlns=\"http://www.w3.org/2000/svg\" width=\"584.0\" height=\"340\">\n<defs><marker id=\"arrow-gray\" markerWidth=\"10\" markerHeight=\"10\" refX=\"9\" refY=\"3\" orient=\"auto\">\n<path d=\"M0,0 L0,6 L9,3 z\" fill=\"gray\"/></marker></defs>\n<path stroke-width=\"1\" stroke=\"gray\" d=\"M 247 48 77 64\" marker-end=\"url(#arrow-gray)\"/>\n<path stroke-width=\"1\" stroke=\"gray\" d=\"M 205 140 148 222\" marker-end=\"url(#arrow-gray)\"/>\n<path stroke-width=\"1\" stroke=\"gray\" d=\"M 205 140 208 251\" marker-end=\"url(#arrow-gray)\"/>\n<path stroke-width=\"1\" stroke=\"gray\" d=\"M 205 140 61 162\" marker-end=\"url(#arrow-gray)\"/>\n<path stroke-width=\"1\" stroke=\"gray\" d=\"M 205 140 167 61\" marker-end=\"url(#arrow-gray)\"/>\n<path stroke-width=\"1\" stroke=\"gray\" d=\"M 205 140 137 95\" marker-end=\"url(#arrow-gray)\"/>\n<path stroke-width=\"1\" stroke=\"gray\" d=\"M 151 320 79 271\" marker-end=\"url(#arrow-gray)\"/>\n<path stroke-width=\"1\" stroke=\"gray\" d=\"M 151 320 144 233\" marker-end=\"url(#arrow-gray)\"/>\n<path stroke-width=\"1\" stroke=\"gray\" d=\"M 164 55 241 48\" marker-end=\"url(#arrow-gray)\"/>\n<path stroke-width=\"1\" stroke=\"gray\" d=\"M 164 55 77 64\" marker-end=\"url(#arrow-gray)\"/>\n<path stroke-width=\"1\" stroke=\"gray\" d=\"M 164 55 202 134\" marker-end=\"url(#arrow-gray)\"/>\n<path stroke-width=\"1\" stroke=\"gray\" d=\"M 164 55 136 87\" marker-end=\"url(#arrow-gray)\"/>\n<path stroke-width=\"1\" stroke=\"gray\" d=\"M 164 55 97 126\" marker-end=\"url(#arrow-gray)\"/>\n<path stroke-width=\"1\" stroke=\"gray\" d=\"M 132 92 241 50\" marker-end=\"url(#arrow-gray)\"/>\n<path stroke-width=\"1\" stroke=\"gray\" d=\"M 132 92 26 108\" marker-end=\"url(#arrow-gray)\"/>\n<path stroke-width=\"1\" stroke=\"gray\" d=\"M 132 92 77 66\" marker-end=\"url(#arrow-gray)\"/>\n<path stroke-width=\"1\" stroke=\"gray\" d=\"M 132 92 160 60\" marker-end=\"url(#arrow-gray)\"/>\n<path stroke-width=\"1\" stroke=\"gray\" d=\"M 132 92 97 127\" marker-end=\"url(#arrow-gray)\"/>\n<path stroke-width=\"1\" stroke=\"gray\" d=\"M 93 131 26 110\" marker-end=\"url(#arrow-gray)\"/>\n<path stroke-width=\"1\" stroke=\"gray\" d=\"M 93 131 73 70\" marker-end=\"url(#arrow-gray)\"/>\n<path stroke-width=\"1\" stroke=\"gray\" d=\"M 93 131 141 221\" marker-end=\"url(#arrow-gray)\"/>\n<path stroke-width=\"1\" stroke=\"gray\" d=\"M 93 131 60 158\" marker-end=\"url(#arrow-gray)\"/>\n<path stroke-width=\"1\" stroke=\"gray\" d=\"M 205 140 26 109\" marker-end=\"url(#arrow-gray)\"/>\n<path stroke-width=\"1\" stroke=\"gray\" d=\"M 205 140 245 54\" marker-end=\"url(#arrow-gray)\"/>\n<path stroke-width=\"1\" stroke=\"gray\" d=\"M 55 162 88 135\" marker-end=\"url(#arrow-gray)\"/>\n<path stroke-width=\"1\" stroke=\"gray\" d=\"M 55 162 127 96\" marker-end=\"url(#arrow-gray)\"/>\n<path stroke-width=\"1\" stroke=\"gray\" d=\"M 247 48 170 55\" marker-end=\"url(#arrow-gray)\"/>\n<path stroke-width=\"1\" stroke=\"gray\" d=\"M 20 108 66 68\" marker-end=\"url(#arrow-gray)\"/>\n<path stroke-width=\"1\" stroke=\"gray\" d=\"M 20 108 87 129\" marker-end=\"url(#arrow-gray)\"/>\n<path stroke-width=\"1\" stroke=\"gray\" d=\"M 74 268 146 317\" marker-end=\"url(#arrow-gray)\"/>\n<path stroke-width=\"1\" stroke=\"gray\" d=\"M 71 64 241 48\" marker-end=\"url(#arrow-gray)\"/>\n<path stroke-width=\"1\" stroke=\"gray\" d=\"M 71 64 25 104\" marker-end=\"url(#arrow-gray)\"/>\n<path stroke-width=\"1\" stroke=\"gray\" d=\"M 71 64 56 156\" marker-end=\"url(#arrow-gray)\"/>\n<path stroke-width=\"1\" stroke=\"gray\" d=\"M 71 64 126 90\" marker-end=\"url(#arrow-gray)\"/>\n<path stroke-width=\"1\" stroke=\"gray\" d=\"M 71 64 91 125\" marker-end=\"url(#arrow-gray)\"/>\n<path stroke-width=\"1\" stroke=\"gray\" d=\"M 144 227 80 265\" marker-end=\"url(#arrow-gray)\"/>\n<path stroke-width=\"1\" stroke=\"gray\" d=\"M 404 94 419 26\" marker-end=\"url(#arrow-gray)\"/>\n<path stroke-width=\"1\" stroke=\"gray\" d=\"M 144 227 202 255\" marker-end=\"url(#arrow-gray)\"/>\n<path stroke-width=\"1\" stroke=\"gray\" d=\"M 208 257 80 268\" marker-end=\"url(#arrow-gray)\"/>\n<path stroke-width=\"1\" stroke=\"gray\" d=\"M 208 257 150 229\" marker-end=\"url(#arrow-gray)\"/>\n<path stroke-width=\"1\" stroke=\"gray\" d=\"M 208 257 205 146\" marker-end=\"url(#arrow-gray)\"/>\n<path stroke-width=\"1\" stroke=\"gray\" d=\"M 208 257 155 315\" marker-end=\"url(#arrow-gray)\"/>\n<path stroke-width=\"1\" stroke=\"gray\" d=\"M 420 20 253 47\" marker-end=\"url(#arrow-gray)\"/>\n<path stroke-width=\"1\" stroke=\"gray\" d=\"M 420 20 405 88\" marker-end=\"url(#arrow-gray)\"/>\n<path stroke-width=\"1\" stroke=\"gray\" d=\"M 55 162 23 113\" marker-end=\"url(#arrow-gray)\"/>\n<path stroke-width=\"1\" stroke=\"gray\" d=\"M 55 162 73 262\" marker-end=\"url(#arrow-gray)\"/>\n<path stroke-width=\"1\" stroke=\"gray\" d=\"M 55 162 70 70\" marker-end=\"url(#arrow-gray)\"/>\n<path stroke-width=\"1\" stroke=\"gray\" d=\"M 55 162 199 140\" marker-end=\"url(#arrow-gray)\"/>\n<path stroke-width=\"1\" stroke=\"gray\" d=\"M 144 227 151 314\" marker-end=\"url(#arrow-gray)\"/>\n<path stroke-width=\"1\" stroke=\"gray\" d=\"M 404 94 211 139\" marker-end=\"url(#arrow-gray)\"/>\n<circle cx=\"247\" cy=\"48\" r=\"7.0\" style=\"fill:red;stroke:black;stroke-width:1.0\"/>\n<circle cx=\"20\" cy=\"108\" r=\"7.0\" style=\"fill:blue;stroke:black;stroke-width:1.0\"/>\n<circle cx=\"74\" cy=\"268\" r=\"7.0\" style=\"fill:green;stroke:black;stroke-width:1.0\"/>\n<circle cx=\"71\" cy=\"64\" r=\"7.0\" style=\"fill:blue;stroke:black;stroke-width:1.0\"/>\n<circle cx=\"144\" cy=\"227\" r=\"7.0\" style=\"fill:green;stroke:black;stroke-width:1.0\"/>\n<circle cx=\"208\" cy=\"257\" r=\"7.0\" style=\"fill:green;stroke:black;stroke-width:1.0\"/>\n<circle cx=\"420\" cy=\"20\" r=\"7.0\" style=\"fill:red;stroke:black;stroke-width:1.0\"/>\n<circle cx=\"55\" cy=\"162\" r=\"7.0\" style=\"fill:blue;stroke:black;stroke-width:1.0\"/>\n<circle cx=\"205\" cy=\"140\" r=\"7.0\" style=\"fill:red;stroke:black;stroke-width:1.0\"/>\n<circle cx=\"151\" cy=\"320\" r=\"7.0\" style=\"fill:green;stroke:black;stroke-width:1.0\"/>\n<circle cx=\"164\" cy=\"55\" r=\"7.0\" style=\"fill:red;stroke:black;stroke-width:1.0\"/>\n<circle cx=\"132\" cy=\"92\" r=\"7.0\" style=\"fill:blue;stroke:black;stroke-width:1.0\"/>\n<circle cx=\"93\" cy=\"131\" r=\"7.0\" style=\"fill:blue;stroke:black;stroke-width:1.0\"/>\n<circle cx=\"404\" cy=\"94\" r=\"7.0\" style=\"fill:red;stroke:black;stroke-width:1.0\"/>\n<text text-anchor=\"start\" x=\"264\" y=\"48\" font-size=\"12\">Pablo Picasso</text><text text-anchor=\"start\" x=\"37\" y=\"108\" font-size=\"12\">Claude Monet</text><text text-anchor=\"start\" x=\"91\" y=\"268\" font-size=\"12\">Michel Angelo</text><text text-anchor=\"start\" x=\"88\" y=\"64\" font-size=\"12\">Edouard Manet</text><text text-anchor=\"start\" x=\"161\" y=\"227\" font-size=\"12\">Peter Paul Rubens</text><text text-anchor=\"start\" x=\"225\" y=\"257\" font-size=\"12\">Rembrandt</text><text text-anchor=\"start\" x=\"437\" y=\"20\" font-size=\"12\">Gustav Klimt</text><text text-anchor=\"start\" x=\"72\" y=\"162\" font-size=\"12\">Edgar Degas</text><text text-anchor=\"start\" x=\"222\" y=\"140\" font-size=\"12\">Vincent van Gogh</text><text text-anchor=\"start\" x=\"168\" y=\"320\" font-size=\"12\">Leonardo da Vinci</text><text text-anchor=\"start\" x=\"181\" y=\"55\" font-size=\"12\">Henri Matisse</text><text text-anchor=\"start\" x=\"149\" y=\"92\" font-size=\"12\">Paul Cezanne</text><text text-anchor=\"start\" x=\"110\" y=\"131\" font-size=\"12\">Pierre-Auguste Renoir</text><text text-anchor=\"start\" x=\"421\" y=\"94\" font-size=\"12\">Egon Schiele</text></svg>",
      "text/plain": [
       "<IPython.core.display.SVG object>"
      ]
     },
     "execution_count": 18,
     "metadata": {},
     "output_type": "execute_result"
    }
   ],
   "source": [
    "image = svg_digraph(adjacency, position, names=names, labels=labels)\n",
    "SVG(image)"
   ]
  },
  {
   "cell_type": "code",
   "execution_count": 19,
   "metadata": {
    "pycharm": {
     "is_executing": false
    }
   },
   "outputs": [
    {
     "data": {
      "text/plain": [
       "0.5685714285714286"
      ]
     },
     "execution_count": 19,
     "metadata": {},
     "output_type": "execute_result"
    }
   ],
   "source": [
    "# metrics\n",
    "dasgupta_score(adjacency, dendrogram)"
   ]
  },
  {
   "cell_type": "markdown",
   "metadata": {},
   "source": [
    "## Bipartite graphs"
   ]
  },
  {
   "cell_type": "code",
   "execution_count": 20,
   "metadata": {},
   "outputs": [],
   "source": [
    "graph = movie_actor(metadata=True)\n",
    "biadjacency = graph.biadjacency\n",
    "names_row = graph.names_row\n",
    "names_col = graph.names_col"
   ]
  },
  {
   "cell_type": "code",
   "execution_count": 21,
   "metadata": {},
   "outputs": [],
   "source": [
    "# hierarchical clustering\n",
    "louvain_hierarchy = LouvainHierarchy()\n",
    "louvain_hierarchy.fit(biadjacency)\n",
    "dendrogram_row = louvain_hierarchy.dendrogram_row_\n",
    "dendrogram_col = louvain_hierarchy.dendrogram_col_\n",
    "dendrogram_full = louvain_hierarchy.dendrogram_full_"
   ]
  },
  {
   "cell_type": "code",
   "execution_count": 22,
   "metadata": {},
   "outputs": [
    {
     "data": {
      "image/svg+xml": "<svg xmlns=\"http://www.w3.org/2000/svg\" width=\"593.0\" height=\"320\"><text x=\"415\" y=\"36.666666666666664\" font-size=\"12\">Inception</text><text x=\"415\" y=\"16.666666666666668\" font-size=\"12\">The Dark Knight Rises</text><text x=\"415\" y=\"256.6666666666667\" font-size=\"12\">The Big Short</text><text x=\"415\" y=\"296.6666666666667\" font-size=\"12\">Drive</text><text x=\"415\" y=\"276.6666666666667\" font-size=\"12\">The Great Gatsby</text><text x=\"415\" y=\"216.66666666666666\" font-size=\"12\">La La Land</text><text x=\"415\" y=\"196.66666666666666\" font-size=\"12\">Crazy Stupid Love</text><text x=\"415\" y=\"236.66666666666666\" font-size=\"12\">Vice</text><text x=\"415\" y=\"156.66666666666666\" font-size=\"12\">The Grand Budapest Hotel</text><text x=\"415\" y=\"96.66666666666667\" font-size=\"12\">Aviator</text><text x=\"415\" y=\"136.66666666666666\" font-size=\"12\">007 Spectre</text><text x=\"415\" y=\"176.66666666666666\" font-size=\"12\">Inglourious Basterds</text><text x=\"415\" y=\"116.66666666666667\" font-size=\"12\">Midnight In Paris</text><text x=\"415\" y=\"76.66666666666667\" font-size=\"12\">Murder on the Orient Express</text><text x=\"415\" y=\"56.666666666666664\" font-size=\"12\">Fantastic Beasts 2</text><path stroke-width=\"2\" stroke=\"blue\" d=\"M 410 230.0 410.0 230.0\"/><path stroke-width=\"2\" stroke=\"blue\" d=\"M 410 250.0 410.0 250.0\"/><path stroke-width=\"2\" stroke=\"blue\" d=\"M 410.0 230.0 410.0 250.0\"/><path stroke-width=\"2\" stroke=\"blue\" d=\"M 410 190.0 410.0 190.0\"/><path stroke-width=\"2\" stroke=\"blue\" d=\"M 410 210.0 410.0 210.0\"/><path stroke-width=\"2\" stroke=\"blue\" d=\"M 410.0 190.0 410.0 210.0\"/><path stroke-width=\"2\" stroke=\"red\" d=\"M 410 130.0 410.0 130.0\"/><path stroke-width=\"2\" stroke=\"red\" d=\"M 410 150.0 410.0 150.0\"/><path stroke-width=\"2\" stroke=\"red\" d=\"M 410.0 130.0 410.0 150.0\"/><path stroke-width=\"2\" stroke=\"green\" d=\"M 410 50.0 410.0 50.0\"/><path stroke-width=\"2\" stroke=\"green\" d=\"M 410 70.0 410.0 70.0\"/><path stroke-width=\"2\" stroke=\"green\" d=\"M 410.0 50.0 410.0 70.0\"/><path stroke-width=\"2\" stroke=\"orange\" d=\"M 410 270.0 210.0 270.0\"/><path stroke-width=\"2\" stroke=\"orange\" d=\"M 410 290.0 210.0 290.0\"/><path stroke-width=\"2\" stroke=\"orange\" d=\"M 210.0 270.0 210.0 290.0\"/><path stroke-width=\"2\" stroke=\"blue\" d=\"M 410.0 200.0 210.0 200.0\"/><path stroke-width=\"2\" stroke=\"blue\" d=\"M 410.0 240.0 210.0 240.0\"/><path stroke-width=\"2\" stroke=\"blue\" d=\"M 210.0 200.0 210.0 240.0\"/><path stroke-width=\"2\" stroke=\"red\" d=\"M 410 110.0 210.0 110.0\"/><path stroke-width=\"2\" stroke=\"red\" d=\"M 410.0 140.0 210.0 140.0\"/><path stroke-width=\"2\" stroke=\"red\" d=\"M 210.0 110.0 210.0 140.0\"/><path stroke-width=\"2\" stroke=\"red\" d=\"M 210.0 125.0 210.0 125.0\"/><path stroke-width=\"2\" stroke=\"red\" d=\"M 410 170.0 210.0 170.0\"/><path stroke-width=\"2\" stroke=\"red\" d=\"M 210.0 125.0 210.0 170.0\"/><path stroke-width=\"2\" stroke=\"green\" d=\"M 410.0 60.0 210.0 60.0\"/><path stroke-width=\"2\" stroke=\"green\" d=\"M 410 90.0 210.0 90.0\"/><path stroke-width=\"2\" stroke=\"green\" d=\"M 210.0 60.0 210.0 90.0\"/><path stroke-width=\"2\" stroke=\"purple\" d=\"M 410 10.0 210.0 10.0\"/><path stroke-width=\"2\" stroke=\"purple\" d=\"M 410 30.0 210.0 30.0\"/><path stroke-width=\"2\" stroke=\"purple\" d=\"M 210.0 10.0 210.0 30.0\"/><path stroke-width=\"2\" stroke=\"black\" d=\"M 210.0 20.0 10.0 20.0\"/><path stroke-width=\"2\" stroke=\"black\" d=\"M 210.0 75.0 10.0 75.0\"/><path stroke-width=\"2\" stroke=\"black\" d=\"M 10.0 20.0 10.0 75.0\"/><path stroke-width=\"2\" stroke=\"black\" d=\"M 10.0 47.5 10.0 47.5\"/><path stroke-width=\"2\" stroke=\"black\" d=\"M 210.0 147.5 10.0 147.5\"/><path stroke-width=\"2\" stroke=\"black\" d=\"M 10.0 47.5 10.0 147.5\"/><path stroke-width=\"2\" stroke=\"black\" d=\"M 10.0 97.5 10.0 97.5\"/><path stroke-width=\"2\" stroke=\"black\" d=\"M 210.0 220.0 10.0 220.0\"/><path stroke-width=\"2\" stroke=\"black\" d=\"M 10.0 97.5 10.0 220.0\"/><path stroke-width=\"2\" stroke=\"black\" d=\"M 10.0 158.75 10.0 158.75\"/><path stroke-width=\"2\" stroke=\"black\" d=\"M 210.0 280.0 10.0 280.0\"/><path stroke-width=\"2\" stroke=\"black\" d=\"M 10.0 158.75 10.0 280.0\"/></svg>",
      "text/plain": [
       "<IPython.core.display.SVG object>"
      ]
     },
     "execution_count": 22,
     "metadata": {},
     "output_type": "execute_result"
    }
   ],
   "source": [
    "image = svg_dendrogram(dendrogram_row, names_row, n_clusters=4, rotate=True)\n",
    "SVG(image)"
   ]
  },
  {
   "cell_type": "code",
   "execution_count": 23,
   "metadata": {},
   "outputs": [
    {
     "data": {
      "image/svg+xml": "<svg xmlns=\"http://www.w3.org/2000/svg\" width=\"545.0\" height=\"320\"><text x=\"415\" y=\"110.0\" font-size=\"12\">Leonardo DiCaprio</text><text x=\"415\" y=\"35.0\" font-size=\"12\">Marion Cotillard</text><text x=\"415\" y=\"16.25\" font-size=\"12\">Joseph Gordon Lewitt</text><text x=\"415\" y=\"278.75\" font-size=\"12\">Christian Bale</text><text x=\"415\" y=\"241.25\" font-size=\"12\">Ryan Gosling</text><text x=\"415\" y=\"203.75\" font-size=\"12\">Brad Pitt</text><text x=\"415\" y=\"297.5\" font-size=\"12\">Carey Mulligan</text><text x=\"415\" y=\"222.5\" font-size=\"12\">Emma Stone</text><text x=\"415\" y=\"260.0\" font-size=\"12\">Steve Carell</text><text x=\"415\" y=\"166.25\" font-size=\"12\">Lea Seydoux</text><text x=\"415\" y=\"147.5\" font-size=\"12\">Ralph Fiennes</text><text x=\"415\" y=\"91.25\" font-size=\"12\">Jude Law</text><text x=\"415\" y=\"72.5\" font-size=\"12\">Willem Dafoe</text><text x=\"415\" y=\"185.0\" font-size=\"12\">Christophe Waltz</text><text x=\"415\" y=\"53.75\" font-size=\"12\">Johnny Depp</text><text x=\"415\" y=\"128.75\" font-size=\"12\">Owen Wilson</text><path stroke-width=\"2\" stroke=\"red\" d=\"M 410 216.25 410.0 216.25\"/><path stroke-width=\"2\" stroke=\"red\" d=\"M 410 235.0 410.0 235.0\"/><path stroke-width=\"2\" stroke=\"red\" d=\"M 410.0 216.25 410.0 235.0\"/><path stroke-width=\"2\" stroke=\"red\" d=\"M 410 253.75 410.0 253.75\"/><path stroke-width=\"2\" stroke=\"red\" d=\"M 410 272.5 410.0 272.5\"/><path stroke-width=\"2\" stroke=\"red\" d=\"M 410.0 253.75 410.0 272.5\"/><path stroke-width=\"2\" stroke=\"blue\" d=\"M 410 141.25 410.0 141.25\"/><path stroke-width=\"2\" stroke=\"blue\" d=\"M 410 160.0 410.0 160.0\"/><path stroke-width=\"2\" stroke=\"blue\" d=\"M 410.0 141.25 410.0 160.0\"/><path stroke-width=\"2\" stroke=\"green\" d=\"M 410 66.25 410.0 66.25\"/><path stroke-width=\"2\" stroke=\"green\" d=\"M 410 85.0 410.0 85.0\"/><path stroke-width=\"2\" stroke=\"green\" d=\"M 410.0 66.25 410.0 85.0\"/><path stroke-width=\"2\" stroke=\"blue\" d=\"M 410 178.75 410.0 178.75\"/><path stroke-width=\"2\" stroke=\"blue\" d=\"M 410 197.5 410.0 197.5\"/><path stroke-width=\"2\" stroke=\"blue\" d=\"M 410.0 178.75 410.0 197.5\"/><path stroke-width=\"2\" stroke=\"green\" d=\"M 410.0 75.625 410.0 75.625\"/><path stroke-width=\"2\" stroke=\"green\" d=\"M 410 103.75 410.0 103.75\"/><path stroke-width=\"2\" stroke=\"green\" d=\"M 410.0 75.625 410.0 103.75\"/><path stroke-width=\"2\" stroke=\"orange\" d=\"M 410 10.0 210.0 10.0\"/><path stroke-width=\"2\" stroke=\"orange\" d=\"M 410 28.75 210.0 28.75\"/><path stroke-width=\"2\" stroke=\"orange\" d=\"M 210.0 10.0 210.0 28.75\"/><path stroke-width=\"2\" stroke=\"red\" d=\"M 410.0 225.625 210.0 225.625\"/><path stroke-width=\"2\" stroke=\"red\" d=\"M 410.0 263.125 210.0 263.125\"/><path stroke-width=\"2\" stroke=\"red\" d=\"M 210.0 225.625 210.0 263.125\"/><path stroke-width=\"2\" stroke=\"blue\" d=\"M 410 122.5 210.0 122.5\"/><path stroke-width=\"2\" stroke=\"blue\" d=\"M 410.0 150.625 210.0 150.625\"/><path stroke-width=\"2\" stroke=\"blue\" d=\"M 210.0 122.5 210.0 150.625\"/><path stroke-width=\"2\" stroke=\"blue\" d=\"M 210.0 136.5625 210.0 136.5625\"/><path stroke-width=\"2\" stroke=\"blue\" d=\"M 410.0 188.125 210.0 188.125\"/><path stroke-width=\"2\" stroke=\"blue\" d=\"M 210.0 136.5625 210.0 188.125\"/><path stroke-width=\"2\" stroke=\"green\" d=\"M 410 47.5 210.0 47.5\"/><path stroke-width=\"2\" stroke=\"green\" d=\"M 410.0 89.6875 210.0 89.6875\"/><path stroke-width=\"2\" stroke=\"green\" d=\"M 210.0 47.5 210.0 89.6875\"/><path stroke-width=\"2\" stroke=\"black\" d=\"M 210.0 19.375 10.0 19.375\"/><path stroke-width=\"2\" stroke=\"black\" d=\"M 210.0 68.59375 10.0 68.59375\"/><path stroke-width=\"2\" stroke=\"black\" d=\"M 10.0 19.375 10.0 68.59375\"/><path stroke-width=\"2\" stroke=\"black\" d=\"M 10.0 43.984375 10.0 43.984375\"/><path stroke-width=\"2\" stroke=\"black\" d=\"M 210.0 162.34375 10.0 162.34375\"/><path stroke-width=\"2\" stroke=\"black\" d=\"M 10.0 43.984375 10.0 162.34375\"/><path stroke-width=\"2\" stroke=\"black\" d=\"M 10.0 103.1640625 10.0 103.1640625\"/><path stroke-width=\"2\" stroke=\"black\" d=\"M 210.0 244.375 10.0 244.375\"/><path stroke-width=\"2\" stroke=\"black\" d=\"M 10.0 103.1640625 10.0 244.375\"/><path stroke-width=\"2\" stroke=\"black\" d=\"M 10.0 173.76953125 10.0 173.76953125\"/><path stroke-width=\"2\" stroke=\"black\" d=\"M 410 291.25 10.0 291.25\"/><path stroke-width=\"2\" stroke=\"black\" d=\"M 10.0 173.76953125 10.0 291.25\"/></svg>",
      "text/plain": [
       "<IPython.core.display.SVG object>"
      ]
     },
     "execution_count": 23,
     "metadata": {},
     "output_type": "execute_result"
    }
   ],
   "source": [
    "image = svg_dendrogram(dendrogram_col, names_col, n_clusters=4, rotate=True)\n",
    "SVG(image)"
   ]
  },
  {
   "cell_type": "code",
   "execution_count": 24,
   "metadata": {},
   "outputs": [],
   "source": [
    "# cuts\n",
    "labels = cut_straight(dendrogram_full, n_clusters = 4)\n",
    "n_row = biadjacency.shape[0]\n",
    "labels_row = labels[:n_row]\n",
    "labels_col = labels[n_row:]"
   ]
  },
  {
   "cell_type": "code",
   "execution_count": 25,
   "metadata": {},
   "outputs": [
    {
     "data": {
      "image/svg+xml": "<svg xmlns=\"http://www.w3.org/2000/svg\" width=\"728.0\" height=\"340\">\n<path stroke-width=\"1\" stroke=\"black\" d=\"M 188 89 588 140\"/>\n<path stroke-width=\"1\" stroke=\"black\" d=\"M 188 310 588 120\"/>\n<path stroke-width=\"1\" stroke=\"black\" d=\"M 188 310 588 100\"/>\n<path stroke-width=\"1\" stroke=\"black\" d=\"M 188 310 588 240\"/>\n<path stroke-width=\"1\" stroke=\"black\" d=\"M 188 150 588 140\"/>\n<path stroke-width=\"1\" stroke=\"black\" d=\"M 188 150 588 120\"/>\n<path stroke-width=\"1\" stroke=\"black\" d=\"M 188 150 588 100\"/>\n<path stroke-width=\"1\" stroke=\"black\" d=\"M 188 290 588 300\"/>\n<path stroke-width=\"1\" stroke=\"black\" d=\"M 188 290 588 280\"/>\n<path stroke-width=\"1\" stroke=\"black\" d=\"M 188 290 588 260\"/>\n<path stroke-width=\"1\" stroke=\"black\" d=\"M 188 270 588 320\"/>\n<path stroke-width=\"1\" stroke=\"black\" d=\"M 188 270 588 300\"/>\n<path stroke-width=\"1\" stroke=\"black\" d=\"M 188 270 588 260\"/>\n<path stroke-width=\"1\" stroke=\"black\" d=\"M 188 249 588 59\"/>\n<path stroke-width=\"1\" stroke=\"black\" d=\"M 188 249 588 300\"/>\n<path stroke-width=\"1\" stroke=\"black\" d=\"M 188 249 588 240\"/>\n<path stroke-width=\"1\" stroke=\"black\" d=\"M 188 130 588 100\"/>\n<path stroke-width=\"1\" stroke=\"black\" d=\"M 188 130 588 79\"/>\n<path stroke-width=\"1\" stroke=\"black\" d=\"M 188 310 588 280\"/>\n<path stroke-width=\"1\" stroke=\"black\" d=\"M 188 310 588 300\"/>\n<path stroke-width=\"1\" stroke=\"black\" d=\"M 188 170 588 160\"/>\n<path stroke-width=\"1\" stroke=\"black\" d=\"M 188 170 588 220\"/>\n<path stroke-width=\"1\" stroke=\"black\" d=\"M 188 89 588 59\"/>\n<path stroke-width=\"1\" stroke=\"black\" d=\"M 188 89 588 40\"/>\n<path stroke-width=\"1\" stroke=\"black\" d=\"M 188 69 588 59\"/>\n<path stroke-width=\"1\" stroke=\"black\" d=\"M 188 69 588 40\"/>\n<path stroke-width=\"1\" stroke=\"black\" d=\"M 188 69 588 220\"/>\n<path stroke-width=\"1\" stroke=\"black\" d=\"M 188 230 588 220\"/>\n<path stroke-width=\"1\" stroke=\"black\" d=\"M 188 230 588 200\"/>\n<path stroke-width=\"1\" stroke=\"black\" d=\"M 188 230 588 320\"/>\n<path stroke-width=\"1\" stroke=\"black\" d=\"M 188 110 588 120\"/>\n<path stroke-width=\"1\" stroke=\"black\" d=\"M 188 230 588 160\"/>\n<path stroke-width=\"1\" stroke=\"black\" d=\"M 188 49 588 20\"/>\n<path stroke-width=\"1\" stroke=\"black\" d=\"M 188 30 588 140\"/>\n<path stroke-width=\"1\" stroke=\"black\" d=\"M 188 30 588 20\"/>\n<path stroke-width=\"1\" stroke=\"black\" d=\"M 188 210 588 200\"/>\n<path stroke-width=\"1\" stroke=\"black\" d=\"M 188 210 588 180\"/>\n<path stroke-width=\"1\" stroke=\"black\" d=\"M 188 190 588 200\"/>\n<path stroke-width=\"1\" stroke=\"black\" d=\"M 188 190 588 180\"/>\n<path stroke-width=\"1\" stroke=\"black\" d=\"M 188 190 588 160\"/>\n<path stroke-width=\"1\" stroke=\"black\" d=\"M 188 49 588 200\"/>\n<path stroke-width=\"1\" stroke=\"black\" d=\"M 188 110 588 79\"/>\n<circle cx=\"188\" cy=\"89\" r=\"7.0\" style=\"fill:orange;stroke:black;stroke-width:1.0\"/>\n<circle cx=\"188\" cy=\"69\" r=\"7.0\" style=\"fill:orange;stroke:black;stroke-width:1.0\"/>\n<circle cx=\"188\" cy=\"230\" r=\"7.0\" style=\"fill:red;stroke:black;stroke-width:1.0\"/>\n<circle cx=\"188\" cy=\"49\" r=\"7.0\" style=\"fill:purple;stroke:black;stroke-width:1.0\"/>\n<circle cx=\"188\" cy=\"30\" r=\"7.0\" style=\"fill:purple;stroke:black;stroke-width:1.0\"/>\n<circle cx=\"188\" cy=\"210\" r=\"7.0\" style=\"fill:red;stroke:black;stroke-width:1.0\"/>\n<circle cx=\"188\" cy=\"190\" r=\"7.0\" style=\"fill:red;stroke:black;stroke-width:1.0\"/>\n<circle cx=\"188\" cy=\"170\" r=\"7.0\" style=\"fill:red;stroke:black;stroke-width:1.0\"/>\n<circle cx=\"188\" cy=\"310\" r=\"7.0\" style=\"fill:blue;stroke:black;stroke-width:1.0\"/>\n<circle cx=\"188\" cy=\"150\" r=\"7.0\" style=\"fill:green;stroke:black;stroke-width:1.0\"/>\n<circle cx=\"188\" cy=\"290\" r=\"7.0\" style=\"fill:blue;stroke:black;stroke-width:1.0\"/>\n<circle cx=\"188\" cy=\"270\" r=\"7.0\" style=\"fill:blue;stroke:black;stroke-width:1.0\"/>\n<circle cx=\"188\" cy=\"249\" r=\"7.0\" style=\"fill:blue;stroke:black;stroke-width:1.0\"/>\n<circle cx=\"188\" cy=\"130\" r=\"7.0\" style=\"fill:green;stroke:black;stroke-width:1.0\"/>\n<circle cx=\"188\" cy=\"110\" r=\"7.0\" style=\"fill:green;stroke:black;stroke-width:1.0\"/>\n<circle cx=\"588\" cy=\"140\" r=\"7.0\" style=\"fill:green;stroke:black;stroke-width:1.0\"/>\n<circle cx=\"588\" cy=\"59\" r=\"7.0\" style=\"fill:orange;stroke:black;stroke-width:1.0\"/>\n<circle cx=\"588\" cy=\"40\" r=\"7.0\" style=\"fill:orange;stroke:black;stroke-width:1.0\"/>\n<circle cx=\"588\" cy=\"220\" r=\"7.0\" style=\"fill:red;stroke:black;stroke-width:1.0\"/>\n<circle cx=\"588\" cy=\"200\" r=\"7.0\" style=\"fill:red;stroke:black;stroke-width:1.0\"/>\n<circle cx=\"588\" cy=\"320\" r=\"7.0\" style=\"fill:blue;stroke:black;stroke-width:1.0\"/>\n<circle cx=\"588\" cy=\"20\" r=\"7.0\" style=\"fill:purple;stroke:black;stroke-width:1.0\"/>\n<circle cx=\"588\" cy=\"180\" r=\"7.0\" style=\"fill:red;stroke:black;stroke-width:1.0\"/>\n<circle cx=\"588\" cy=\"160\" r=\"7.0\" style=\"fill:red;stroke:black;stroke-width:1.0\"/>\n<circle cx=\"588\" cy=\"300\" r=\"7.0\" style=\"fill:blue;stroke:black;stroke-width:1.0\"/>\n<circle cx=\"588\" cy=\"280\" r=\"7.0\" style=\"fill:blue;stroke:black;stroke-width:1.0\"/>\n<circle cx=\"588\" cy=\"120\" r=\"7.0\" style=\"fill:green;stroke:black;stroke-width:1.0\"/>\n<circle cx=\"588\" cy=\"100\" r=\"7.0\" style=\"fill:green;stroke:black;stroke-width:1.0\"/>\n<circle cx=\"588\" cy=\"260\" r=\"7.0\" style=\"fill:blue;stroke:black;stroke-width:1.0\"/>\n<circle cx=\"588\" cy=\"79\" r=\"7.0\" style=\"fill:green;stroke:black;stroke-width:1.0\"/>\n<circle cx=\"588\" cy=\"240\" r=\"7.0\" style=\"fill:blue;stroke:black;stroke-width:1.0\"/>\n<text text-anchor=\"end\" x=\"178\" y=\"89\" font-size=\"12\">Inception</text><text text-anchor=\"end\" x=\"178\" y=\"69\" font-size=\"12\">The Dark Knight Rises</text><text text-anchor=\"end\" x=\"178\" y=\"230\" font-size=\"12\">The Big Short</text><text text-anchor=\"end\" x=\"178\" y=\"49\" font-size=\"12\">Drive</text><text text-anchor=\"end\" x=\"178\" y=\"30\" font-size=\"12\">The Great Gatsby</text><text text-anchor=\"end\" x=\"178\" y=\"210\" font-size=\"12\">La La Land</text><text text-anchor=\"end\" x=\"178\" y=\"190\" font-size=\"12\">Crazy Stupid Love</text><text text-anchor=\"end\" x=\"178\" y=\"170\" font-size=\"12\">Vice</text><text text-anchor=\"end\" x=\"178\" y=\"310\" font-size=\"12\">The Grand Budapest Hotel</text><text text-anchor=\"end\" x=\"178\" y=\"150\" font-size=\"12\">Aviator</text><text text-anchor=\"end\" x=\"178\" y=\"290\" font-size=\"12\">007 Spectre</text><text text-anchor=\"end\" x=\"178\" y=\"270\" font-size=\"12\">Inglourious Basterds</text><text text-anchor=\"end\" x=\"178\" y=\"249\" font-size=\"12\">Midnight In Paris</text><text text-anchor=\"end\" x=\"178\" y=\"130\" font-size=\"12\">Murder on the Orient Express</text><text text-anchor=\"end\" x=\"178\" y=\"110\" font-size=\"12\">Fantastic Beasts 2</text><text text-anchor=\"start\" x=\"598\" y=\"140\" font-size=\"12\">Leonardo DiCaprio</text><text text-anchor=\"start\" x=\"598\" y=\"59\" font-size=\"12\">Marion Cotillard</text><text text-anchor=\"start\" x=\"598\" y=\"40\" font-size=\"12\">Joseph Gordon Lewitt</text><text text-anchor=\"start\" x=\"598\" y=\"220\" font-size=\"12\">Christian Bale</text><text text-anchor=\"start\" x=\"598\" y=\"200\" font-size=\"12\">Ryan Gosling</text><text text-anchor=\"start\" x=\"598\" y=\"320\" font-size=\"12\">Brad Pitt</text><text text-anchor=\"start\" x=\"598\" y=\"20\" font-size=\"12\">Carey Mulligan</text><text text-anchor=\"start\" x=\"598\" y=\"180\" font-size=\"12\">Emma Stone</text><text text-anchor=\"start\" x=\"598\" y=\"160\" font-size=\"12\">Steve Carell</text><text text-anchor=\"start\" x=\"598\" y=\"300\" font-size=\"12\">Lea Seydoux</text><text text-anchor=\"start\" x=\"598\" y=\"280\" font-size=\"12\">Ralph Fiennes</text><text text-anchor=\"start\" x=\"598\" y=\"120\" font-size=\"12\">Jude Law</text><text text-anchor=\"start\" x=\"598\" y=\"100\" font-size=\"12\">Willem Dafoe</text><text text-anchor=\"start\" x=\"598\" y=\"260\" font-size=\"12\">Christophe Waltz</text><text text-anchor=\"start\" x=\"598\" y=\"79\" font-size=\"12\">Johnny Depp</text><text text-anchor=\"start\" x=\"598\" y=\"240\" font-size=\"12\">Owen Wilson</text></svg>",
      "text/plain": [
       "<IPython.core.display.SVG object>"
      ]
     },
     "execution_count": 25,
     "metadata": {},
     "output_type": "execute_result"
    }
   ],
   "source": [
    "image = svg_bigraph(biadjacency, names_row, names_col, labels_row, labels_col)\n",
    "SVG(image)"
   ]
  },
  {
   "cell_type": "code",
   "execution_count": null,
   "metadata": {},
   "outputs": [],
   "source": []
  }
 ],
 "metadata": {
  "kernelspec": {
   "display_name": "sknetwork",
   "language": "python",
   "name": "sknetwork"
  },
  "language_info": {
   "codemirror_mode": {
    "name": "ipython",
    "version": 3
   },
   "file_extension": ".py",
   "mimetype": "text/x-python",
   "name": "python",
   "nbconvert_exporter": "python",
   "pygments_lexer": "ipython3",
   "version": "3.10.4"
  },
  "pycharm": {
   "stem_cell": {
    "cell_type": "raw",
    "metadata": {
     "collapsed": false
    },
    "source": []
   }
  },
  "toc": {
   "base_numbering": 1,
   "nav_menu": {},
   "number_sections": true,
   "sideBar": true,
   "skip_h1_title": false,
   "title_cell": "Table of Contents",
   "title_sidebar": "Contents",
   "toc_cell": false,
   "toc_position": {},
   "toc_section_display": true,
   "toc_window_display": false
  }
 },
 "nbformat": 4,
 "nbformat_minor": 1
}
